{
 "cells": [
  {
   "cell_type": "code",
   "execution_count": null,
   "metadata": {},
   "outputs": [],
   "source": [
    "import numpy as np\n",
    "import scipy.io as sio\n",
    "import os\n",
    "import matplotlib.pyplot as plt\n",
    "import seaborn as sns\n",
    "\n",
    "from sklearn.discriminant_analysis import LinearDiscriminantAnalysis\n",
    "from sklearn.ensemble import RandomForestClassifier\n",
    "from sklearn.metrics import accuracy_score, classification_report, f1_score\n",
    "from eeg_emg_load import load_emg_eeg_data, butter_bandpass_filter, epoch, plot_epochs\n",
    "from model_utils import train_LDA, train_RFs, train_SVM, train_HTNet, fold_split_data, balance_data"
   ]
  },
  {
   "cell_type": "code",
   "execution_count": null,
   "metadata": {},
   "outputs": [],
   "source": [
    "if os.environ.get(\"CUDA_VISIBLE_DEVICES\") is None:\n",
    "    #Choose GPU 0 as a default if not specified (can set this in Python script that calls this)\n",
    "    os.environ[\"CUDA_DEVICE_ORDER\"]=\"PCI_BUS_ID\"\n",
    "    os.environ[\"CUDA_VISIBLE_DEVICES\"]=\"0\""
   ]
  },
  {
   "cell_type": "markdown",
   "metadata": {},
   "source": [
    "# Load in the EEG and EMG data"
   ]
  },
  {
   "cell_type": "code",
   "execution_count": null,
   "metadata": {},
   "outputs": [],
   "source": [
    "path = '/data1/users/zsteineh/EE560';\n",
    "\n",
    "eeg_folder = 'EEG'\n",
    "eeg_file = 'EEG_session1_sub1_multigrasp_realMove.mat'\n",
    "\n",
    "emg_folder = 'EMG'\n",
    "emg_file = 'EMG_session1_sub1_multigrasp_realMove.mat'\n",
    "\n",
    "# Load data in\n",
    "emg_data, emg_fs, emg_event_times, emg_grasp_labels, emg_grasp_names = load_emg_eeg_data(os.path.join(path,emg_folder, emg_file));\n",
    "eeg_data, eeg_fs, eeg_event_times, eeg_grasp_labels, eeg_grasp_names = load_emg_eeg_data(os.path.join(path,eeg_folder, eeg_file));"
   ]
  },
  {
   "cell_type": "code",
   "execution_count": null,
   "metadata": {},
   "outputs": [],
   "source": [
    "emg_data = butter_bandpass_filter(emg_data, 8, 30, emg_fs, order=5)\n",
    "eeg_data = butter_bandpass_filter(eeg_data, 8, 30, emg_fs, order=5)"
   ]
  },
  {
   "cell_type": "code",
   "execution_count": null,
   "metadata": {},
   "outputs": [],
   "source": [
    "emg_epochs = epoch(emg_data,emg_event_times, emg_fs, 1);\n",
    "eeg_epochs = epoch(eeg_data,eeg_event_times, eeg_fs, 1);"
   ]
  },
  {
   "cell_type": "code",
   "execution_count": null,
   "metadata": {},
   "outputs": [],
   "source": [
    "plot_epochs(emg_epochs, emg_fs, 1, 10) # First number is number of channels, Second number is number of epochs\n",
    "plot_epochs(eeg_epochs, eeg_fs, 1, 10) # First number is number of channels, Second number is number of epochs"
   ]
  },
  {
   "cell_type": "code",
   "execution_count": null,
   "metadata": {},
   "outputs": [],
   "source": [
    "\" Now let's see if we can plot the subset for a specified label\"\n",
    "plot_epochs(emg_epochs[:,:,emg_grasp_labels == 3], emg_fs, 1, 10)"
   ]
  },
  {
   "cell_type": "code",
   "execution_count": null,
   "metadata": {},
   "outputs": [],
   "source": [
    "# samples, channels, num events\n",
    "emg_epochs.shape"
   ]
  },
  {
   "cell_type": "code",
   "execution_count": null,
   "metadata": {},
   "outputs": [],
   "source": [
    "eeg_grasp_names = [i[0] for i in eeg_grasp_names]\n",
    "eeg_grasp_names"
   ]
  },
  {
   "cell_type": "code",
   "execution_count": null,
   "metadata": {},
   "outputs": [],
   "source": [
    "np.all(emg_grasp_labels == eeg_grasp_labels)"
   ]
  },
  {
   "cell_type": "code",
   "execution_count": null,
   "metadata": {},
   "outputs": [],
   "source": [
    "trimmed_grasp_labels, trimmed_emg_epochs, trimmed_eeg_epochs = balance_data(emg_grasp_labels, emg_epochs, eeg_epochs)"
   ]
  },
  {
   "cell_type": "markdown",
   "metadata": {},
   "source": [
    "Still need code for pulliing out the CSP features"
   ]
  },
  {
   "cell_type": "markdown",
   "metadata": {},
   "source": [
    "# Classify with just EEG data\n",
    "... for now"
   ]
  },
  {
   "cell_type": "code",
   "execution_count": null,
   "metadata": {},
   "outputs": [],
   "source": [
    "folds = 10\n",
    "cur_channel = 2\n",
    "fold_accs = train_LDA(folds, cur_channel, eeg_epochs, eeg_grasp_labels, eeg_grasp_names)"
   ]
  },
  {
   "cell_type": "markdown",
   "metadata": {},
   "source": [
    "note to self: do I need to make sure that classes are balanced in both datasets?"
   ]
  },
  {
   "cell_type": "code",
   "execution_count": null,
   "metadata": {},
   "outputs": [],
   "source": [
    "plt.boxplot(np.array(fold_accs), labels=['Train', 'Test'])\n",
    "plt.ylabel('Classification Accuracy')\n",
    "plt.ylim((0,1))\n",
    "plt.axhline((100/len(eeg_grasp_names))/100,c='k',linestyle='--')\n",
    "plt.title('Classification Accuracy with LDA on one EEG channel')\n",
    "plt.show()"
   ]
  },
  {
   "cell_type": "markdown",
   "metadata": {},
   "source": [
    "# Classify EMG with LDA"
   ]
  },
  {
   "cell_type": "code",
   "execution_count": null,
   "metadata": {},
   "outputs": [],
   "source": [
    "folds = 10\n",
    "cur_channel = 2\n",
    "\n",
    "fold_accs = train_LDA(folds, cur_channel, emg_epochs, emg_grasp_labels, eeg_grasp_names)"
   ]
  },
  {
   "cell_type": "code",
   "execution_count": null,
   "metadata": {},
   "outputs": [],
   "source": [
    "plt.boxplot(np.array(fold_accs), labels=['Train', 'Test'])\n",
    "plt.ylabel('Classification Accuracy')\n",
    "plt.ylim((0,1))\n",
    "plt.axhline((100/len(eeg_grasp_names))/100,c='k',linestyle='--')\n",
    "plt.title('Classification Accuracy with LDA on one EMG channel')\n",
    "plt.show()"
   ]
  },
  {
   "cell_type": "markdown",
   "metadata": {},
   "source": [
    "# Next will try with both EMG and EEG together"
   ]
  },
  {
   "cell_type": "code",
   "execution_count": null,
   "metadata": {},
   "outputs": [],
   "source": [
    "folds = 10\n",
    "cur_channel = 0\n",
    "\n",
    "emg_eeg_epochs = np.concatenate( (emg_epochs[:,cur_channel,:], eeg_epochs[:,cur_channel,:]), axis=0 )\n",
    "emg_eeg_epochs = np.expand_dims(emg_eeg_epochs, axis = 1)\n",
    "\n",
    "fold_accs = train_LDA(folds, cur_channel, emg_eeg_epochs, emg_grasp_labels, eeg_grasp_names)"
   ]
  },
  {
   "cell_type": "code",
   "execution_count": null,
   "metadata": {},
   "outputs": [],
   "source": [
    "plt.boxplot(np.array(fold_accs), labels=['Train', 'Test'])\n",
    "plt.ylabel('Classification Accuracy')\n",
    "plt.ylim((0,1))\n",
    "plt.axhline((100/len(eeg_grasp_names))/100,c='k',linestyle='--')\n",
    "plt.title('Classification Accuracy with LDA on one EMG and EEG channel')\n",
    "plt.show()"
   ]
  },
  {
   "cell_type": "markdown",
   "metadata": {},
   "source": [
    "# Now trying Classification with RFs"
   ]
  },
  {
   "cell_type": "code",
   "execution_count": null,
   "metadata": {},
   "outputs": [],
   "source": [
    "folds = 10\n",
    "cur_channel = 2\n",
    "\n",
    "fold_accs = train_RFs(folds, cur_channel, emg_epochs, emg_grasp_labels, eeg_grasp_names)"
   ]
  },
  {
   "cell_type": "markdown",
   "metadata": {},
   "source": [
    "Unbalanced with Rest data really messing with the RF model"
   ]
  },
  {
   "cell_type": "code",
   "execution_count": null,
   "metadata": {},
   "outputs": [],
   "source": [
    "plt.boxplot(np.array(fold_accs), labels=['Train', 'Test'])\n",
    "plt.ylabel('Classification Accuracy')\n",
    "plt.ylim((0,1))\n",
    "plt.axhline((100/len(eeg_grasp_names))/100,c='k',linestyle='--')\n",
    "plt.title('Classification Accuracy with RFs on one EMG channel')\n",
    "plt.show()"
   ]
  },
  {
   "cell_type": "code",
   "execution_count": null,
   "metadata": {},
   "outputs": [],
   "source": [
    "np.unique(emg_grasp_labels, return_counts = True)"
   ]
  },
  {
   "cell_type": "code",
   "execution_count": null,
   "metadata": {},
   "outputs": [],
   "source": [
    "folds = 10\n",
    "cur_channel = 6\n",
    "\n",
    "fold_accs = train_RFs(folds, cur_channel, trimmed_emg_epochs, trimmed_grasp_labels, eeg_grasp_names)"
   ]
  },
  {
   "cell_type": "code",
   "execution_count": null,
   "metadata": {},
   "outputs": [],
   "source": [
    "plt.boxplot(np.array(fold_accs), labels=['Train', 'Test'])\n",
    "plt.ylabel('Classification Accuracy')\n",
    "plt.ylim((0,1))\n",
    "plt.axhline((100/len(eeg_grasp_names))/100,c='k',linestyle='--')\n",
    "plt.title('Classification Accuracy with RFs on one EMG channel')\n",
    "plt.show()"
   ]
  },
  {
   "cell_type": "markdown",
   "metadata": {},
   "source": [
    "Not doing so well, but I'm guessing this could be because of the reading from one channel"
   ]
  },
  {
   "cell_type": "code",
   "execution_count": null,
   "metadata": {},
   "outputs": [],
   "source": [
    "folds = 10\n",
    "cur_channel = 0\n",
    "\n",
    "fold_accs = train_RFs(folds, cur_channel, trimmed_eeg_epochs, trimmed_grasp_labels, eeg_grasp_names)"
   ]
  },
  {
   "cell_type": "code",
   "execution_count": null,
   "metadata": {},
   "outputs": [],
   "source": [
    "plt.boxplot(np.array(fold_accs), labels=['Train', 'Test'])\n",
    "plt.ylabel('Classification Accuracy')\n",
    "plt.ylim((0,1))\n",
    "plt.axhline((100/len(eeg_grasp_names))/100,c='k',linestyle='--')\n",
    "plt.title('Classification Accuracy with RFs on one EEG channel')\n",
    "plt.show()"
   ]
  },
  {
   "cell_type": "markdown",
   "metadata": {},
   "source": [
    "# Trying with SVM"
   ]
  },
  {
   "cell_type": "code",
   "execution_count": null,
   "metadata": {},
   "outputs": [],
   "source": [
    "folds = 10\n",
    "cur_channel = 0\n",
    "\n",
    "fold_accs = train_SVM(folds, cur_channel, trimmed_eeg_epochs, trimmed_grasp_labels, eeg_grasp_names)\n",
    "plt.boxplot(np.array(fold_accs), labels=['Train', 'Test'])\n",
    "plt.ylabel('Classification Accuracy')\n",
    "plt.ylim((0,1))\n",
    "plt.axhline((100/len(eeg_grasp_names))/100,c='k',linestyle='--')\n",
    "plt.title('Classification Accuracy with SVM on one EEG channel')\n",
    "plt.show()"
   ]
  },
  {
   "cell_type": "markdown",
   "metadata": {},
   "source": [
    "# Train with HTNet"
   ]
  },
  {
   "cell_type": "code",
   "execution_count": null,
   "metadata": {},
   "outputs": [],
   "source": [
    "folds = 10\n",
    "cur_channel = 0\n",
    "\n",
    "fold_accs = train_HTNet(folds, trimmed_eeg_epochs, trimmed_grasp_labels, eeg_grasp_names, eeg_fs)\n",
    "plt.boxplot(np.array(fold_accs), labels=['Train', 'Test'])\n",
    "plt.ylabel('Classification Accuracy')\n",
    "plt.ylim((0,1))\n",
    "plt.axhline((100/len(eeg_grasp_names))/100,c='k',linestyle='--')\n",
    "plt.title('Classification Accuracy with HTNet on EEG data')\n",
    "plt.show()"
   ]
  },
  {
   "cell_type": "markdown",
   "metadata": {},
   "source": [
    "Getting something odd with the loss after training... This may have something to do with it: https://github.com/keras-team/keras/issues/6977"
   ]
  },
  {
   "cell_type": "code",
   "execution_count": null,
   "metadata": {},
   "outputs": [],
   "source": []
  }
 ],
 "metadata": {
  "interpreter": {
   "hash": "d87acce41686663271301a46b1d449d392558893b443f65afe6f84a594f5b46a"
  },
  "kernelspec": {
   "display_name": "ECoGDL_venv",
   "language": "python",
   "name": "ecogdl_venv"
  },
  "language_info": {
   "codemirror_mode": {
    "name": "ipython",
    "version": 3
   },
   "file_extension": ".py",
   "mimetype": "text/x-python",
   "name": "python",
   "nbconvert_exporter": "python",
   "pygments_lexer": "ipython3",
   "version": "3.7.7"
  }
 },
 "nbformat": 4,
 "nbformat_minor": 2
}
